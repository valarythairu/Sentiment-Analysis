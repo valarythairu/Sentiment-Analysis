{
 "cells": [
  {
   "cell_type": "markdown",
   "id": "7f2038d5-cb3b-4134-bf3c-c2d19c138e98",
   "metadata": {},
   "source": [
    "#### Importing the necessary libraries"
   ]
  },
  {
   "cell_type": "code",
   "execution_count": 58,
   "id": "e5c3606c-7133-4cec-b449-1ae1e51adb6f",
   "metadata": {},
   "outputs": [
    {
     "name": "stderr",
     "output_type": "stream",
     "text": [
      "[nltk_data] Downloading package punkt to\n",
      "[nltk_data]     C:\\Users\\HP\\AppData\\Roaming\\nltk_data...\n",
      "[nltk_data]   Package punkt is already up-to-date!\n",
      "[nltk_data] Downloading package stopwords to\n",
      "[nltk_data]     C:\\Users\\HP\\AppData\\Roaming\\nltk_data...\n",
      "[nltk_data]   Package stopwords is already up-to-date!\n"
     ]
    }
   ],
   "source": [
    "import pandas as pd\n",
    "import matplotlib.pyplot as plt\n",
    "%matplotlib inline\n",
    "import numpy as np\n",
    "import nltk\n",
    "import re\n",
    "nltk.download('punkt')\n",
    "from nltk.corpus import stopwords\n",
    "nltk.download('stopwords')\n",
    "from nltk.tokenize import word_tokenize\n",
    "from sklearn.preprocessing import LabelBinarizer\n",
    "from sklearn.model_selection import train_test_split\n",
    "from keras.preprocessing.text import Tokenizer\n",
    "from keras.preprocessing.sequence import pad_sequences\n",
    "from keras.utils import to_categorical\n",
    "from keras import models\n",
    "from keras import layers,regularizers,optimizers\n",
    "from keras.models import Sequential\n",
    "from keras.layers import Dropout,Activation,LSTM,Dense,Embedding,Input"
   ]
  },
  {
   "cell_type": "markdown",
   "id": "68c19970-ce4f-42db-97cd-598154fbf4a8",
   "metadata": {},
   "source": [
    "#### Reading the data"
   ]
  },
  {
   "cell_type": "code",
   "execution_count": 3,
   "id": "3df97e6d-20e6-4a90-9d31-132578ee3aff",
   "metadata": {},
   "outputs": [
    {
     "data": {
      "text/html": [
       "<div>\n",
       "<style scoped>\n",
       "    .dataframe tbody tr th:only-of-type {\n",
       "        vertical-align: middle;\n",
       "    }\n",
       "\n",
       "    .dataframe tbody tr th {\n",
       "        vertical-align: top;\n",
       "    }\n",
       "\n",
       "    .dataframe thead th {\n",
       "        text-align: right;\n",
       "    }\n",
       "</style>\n",
       "<table border=\"1\" class=\"dataframe\">\n",
       "  <thead>\n",
       "    <tr style=\"text-align: right;\">\n",
       "      <th></th>\n",
       "      <th>tweet_text</th>\n",
       "      <th>emotion_in_tweet_is_directed_at</th>\n",
       "      <th>is_there_an_emotion_directed_at_a_brand_or_product</th>\n",
       "    </tr>\n",
       "  </thead>\n",
       "  <tbody>\n",
       "    <tr>\n",
       "      <th>0</th>\n",
       "      <td>.@wesley83 I have a 3G iPhone. After 3 hrs twe...</td>\n",
       "      <td>iPhone</td>\n",
       "      <td>Negative emotion</td>\n",
       "    </tr>\n",
       "    <tr>\n",
       "      <th>1</th>\n",
       "      <td>@jessedee Know about @fludapp ? Awesome iPad/i...</td>\n",
       "      <td>iPad or iPhone App</td>\n",
       "      <td>Positive emotion</td>\n",
       "    </tr>\n",
       "    <tr>\n",
       "      <th>2</th>\n",
       "      <td>@swonderlin Can not wait for #iPad 2 also. The...</td>\n",
       "      <td>iPad</td>\n",
       "      <td>Positive emotion</td>\n",
       "    </tr>\n",
       "    <tr>\n",
       "      <th>3</th>\n",
       "      <td>@sxsw I hope this year's festival isn't as cra...</td>\n",
       "      <td>iPad or iPhone App</td>\n",
       "      <td>Negative emotion</td>\n",
       "    </tr>\n",
       "    <tr>\n",
       "      <th>4</th>\n",
       "      <td>@sxtxstate great stuff on Fri #SXSW: Marissa M...</td>\n",
       "      <td>Google</td>\n",
       "      <td>Positive emotion</td>\n",
       "    </tr>\n",
       "    <tr>\n",
       "      <th>5</th>\n",
       "      <td>@teachntech00 New iPad Apps For #SpeechTherapy...</td>\n",
       "      <td>NaN</td>\n",
       "      <td>No emotion toward brand or product</td>\n",
       "    </tr>\n",
       "    <tr>\n",
       "      <th>6</th>\n",
       "      <td>NaN</td>\n",
       "      <td>NaN</td>\n",
       "      <td>No emotion toward brand or product</td>\n",
       "    </tr>\n",
       "    <tr>\n",
       "      <th>7</th>\n",
       "      <td>#SXSW is just starting, #CTIA is around the co...</td>\n",
       "      <td>Android</td>\n",
       "      <td>Positive emotion</td>\n",
       "    </tr>\n",
       "    <tr>\n",
       "      <th>8</th>\n",
       "      <td>Beautifully smart and simple idea RT @madebyma...</td>\n",
       "      <td>iPad or iPhone App</td>\n",
       "      <td>Positive emotion</td>\n",
       "    </tr>\n",
       "    <tr>\n",
       "      <th>9</th>\n",
       "      <td>Counting down the days to #sxsw plus strong Ca...</td>\n",
       "      <td>Apple</td>\n",
       "      <td>Positive emotion</td>\n",
       "    </tr>\n",
       "    <tr>\n",
       "      <th>10</th>\n",
       "      <td>Excited to meet the @samsungmobileus at #sxsw ...</td>\n",
       "      <td>Android</td>\n",
       "      <td>Positive emotion</td>\n",
       "    </tr>\n",
       "    <tr>\n",
       "      <th>11</th>\n",
       "      <td>Find &amp;amp; Start Impromptu Parties at #SXSW Wi...</td>\n",
       "      <td>Android App</td>\n",
       "      <td>Positive emotion</td>\n",
       "    </tr>\n",
       "    <tr>\n",
       "      <th>12</th>\n",
       "      <td>Foursquare ups the game, just in time for #SXS...</td>\n",
       "      <td>Android App</td>\n",
       "      <td>Positive emotion</td>\n",
       "    </tr>\n",
       "    <tr>\n",
       "      <th>13</th>\n",
       "      <td>Gotta love this #SXSW Google Calendar featurin...</td>\n",
       "      <td>Other Google product or service</td>\n",
       "      <td>Positive emotion</td>\n",
       "    </tr>\n",
       "    <tr>\n",
       "      <th>14</th>\n",
       "      <td>Great #sxsw ipad app from @madebymany: http://...</td>\n",
       "      <td>iPad or iPhone App</td>\n",
       "      <td>Positive emotion</td>\n",
       "    </tr>\n",
       "  </tbody>\n",
       "</table>\n",
       "</div>"
      ],
      "text/plain": [
       "                                           tweet_text  \\\n",
       "0   .@wesley83 I have a 3G iPhone. After 3 hrs twe...   \n",
       "1   @jessedee Know about @fludapp ? Awesome iPad/i...   \n",
       "2   @swonderlin Can not wait for #iPad 2 also. The...   \n",
       "3   @sxsw I hope this year's festival isn't as cra...   \n",
       "4   @sxtxstate great stuff on Fri #SXSW: Marissa M...   \n",
       "5   @teachntech00 New iPad Apps For #SpeechTherapy...   \n",
       "6                                                 NaN   \n",
       "7   #SXSW is just starting, #CTIA is around the co...   \n",
       "8   Beautifully smart and simple idea RT @madebyma...   \n",
       "9   Counting down the days to #sxsw plus strong Ca...   \n",
       "10  Excited to meet the @samsungmobileus at #sxsw ...   \n",
       "11  Find &amp; Start Impromptu Parties at #SXSW Wi...   \n",
       "12  Foursquare ups the game, just in time for #SXS...   \n",
       "13  Gotta love this #SXSW Google Calendar featurin...   \n",
       "14  Great #sxsw ipad app from @madebymany: http://...   \n",
       "\n",
       "    emotion_in_tweet_is_directed_at  \\\n",
       "0                            iPhone   \n",
       "1                iPad or iPhone App   \n",
       "2                              iPad   \n",
       "3                iPad or iPhone App   \n",
       "4                            Google   \n",
       "5                               NaN   \n",
       "6                               NaN   \n",
       "7                           Android   \n",
       "8                iPad or iPhone App   \n",
       "9                             Apple   \n",
       "10                          Android   \n",
       "11                      Android App   \n",
       "12                      Android App   \n",
       "13  Other Google product or service   \n",
       "14               iPad or iPhone App   \n",
       "\n",
       "   is_there_an_emotion_directed_at_a_brand_or_product  \n",
       "0                                    Negative emotion  \n",
       "1                                    Positive emotion  \n",
       "2                                    Positive emotion  \n",
       "3                                    Negative emotion  \n",
       "4                                    Positive emotion  \n",
       "5                  No emotion toward brand or product  \n",
       "6                  No emotion toward brand or product  \n",
       "7                                    Positive emotion  \n",
       "8                                    Positive emotion  \n",
       "9                                    Positive emotion  \n",
       "10                                   Positive emotion  \n",
       "11                                   Positive emotion  \n",
       "12                                   Positive emotion  \n",
       "13                                   Positive emotion  \n",
       "14                                   Positive emotion  "
      ]
     },
     "execution_count": 3,
     "metadata": {},
     "output_type": "execute_result"
    }
   ],
   "source": [
    "data = pd.read_csv('tweet_product_company.csv',encoding='latin-1')\n",
    "data.head(15)"
   ]
  },
  {
   "cell_type": "markdown",
   "id": "a84f6e07-75d1-4490-a790-166b5ec3619c",
   "metadata": {},
   "source": [
    "This is the data we have let us check the overall information of the dataset."
   ]
  },
  {
   "cell_type": "code",
   "execution_count": 4,
   "id": "b97927cb-1eac-48e2-bf1d-568694176b67",
   "metadata": {},
   "outputs": [
    {
     "name": "stdout",
     "output_type": "stream",
     "text": [
      "<class 'pandas.core.frame.DataFrame'>\n",
      "RangeIndex: 9093 entries, 0 to 9092\n",
      "Data columns (total 3 columns):\n",
      " #   Column                                              Non-Null Count  Dtype \n",
      "---  ------                                              --------------  ----- \n",
      " 0   tweet_text                                          9092 non-null   object\n",
      " 1   emotion_in_tweet_is_directed_at                     3291 non-null   object\n",
      " 2   is_there_an_emotion_directed_at_a_brand_or_product  9093 non-null   object\n",
      "dtypes: object(3)\n",
      "memory usage: 213.2+ KB\n"
     ]
    }
   ],
   "source": [
    "data.info()"
   ]
  },
  {
   "cell_type": "markdown",
   "id": "b9058d7a-0f3a-4820-974e-5373e26703f6",
   "metadata": {},
   "source": [
    "So as we can see the dataset has different count of values in the rows.\n",
    "For the purpose of the project is sentiment analysis, I chose the columns the necessary columns from the dataset."
   ]
  },
  {
   "cell_type": "code",
   "execution_count": 5,
   "id": "2e0d8472-37e3-4958-ae71-3c66da0887a9",
   "metadata": {},
   "outputs": [
    {
     "data": {
      "text/html": [
       "<div>\n",
       "<style scoped>\n",
       "    .dataframe tbody tr th:only-of-type {\n",
       "        vertical-align: middle;\n",
       "    }\n",
       "\n",
       "    .dataframe tbody tr th {\n",
       "        vertical-align: top;\n",
       "    }\n",
       "\n",
       "    .dataframe thead th {\n",
       "        text-align: right;\n",
       "    }\n",
       "</style>\n",
       "<table border=\"1\" class=\"dataframe\">\n",
       "  <thead>\n",
       "    <tr style=\"text-align: right;\">\n",
       "      <th></th>\n",
       "      <th>tweet_text</th>\n",
       "      <th>is_there_an_emotion_directed_at_a_brand_or_product</th>\n",
       "    </tr>\n",
       "  </thead>\n",
       "  <tbody>\n",
       "    <tr>\n",
       "      <th>0</th>\n",
       "      <td>.@wesley83 I have a 3G iPhone. After 3 hrs twe...</td>\n",
       "      <td>Negative emotion</td>\n",
       "    </tr>\n",
       "    <tr>\n",
       "      <th>1</th>\n",
       "      <td>@jessedee Know about @fludapp ? Awesome iPad/i...</td>\n",
       "      <td>Positive emotion</td>\n",
       "    </tr>\n",
       "    <tr>\n",
       "      <th>2</th>\n",
       "      <td>@swonderlin Can not wait for #iPad 2 also. The...</td>\n",
       "      <td>Positive emotion</td>\n",
       "    </tr>\n",
       "    <tr>\n",
       "      <th>3</th>\n",
       "      <td>@sxsw I hope this year's festival isn't as cra...</td>\n",
       "      <td>Negative emotion</td>\n",
       "    </tr>\n",
       "    <tr>\n",
       "      <th>4</th>\n",
       "      <td>@sxtxstate great stuff on Fri #SXSW: Marissa M...</td>\n",
       "      <td>Positive emotion</td>\n",
       "    </tr>\n",
       "    <tr>\n",
       "      <th>...</th>\n",
       "      <td>...</td>\n",
       "      <td>...</td>\n",
       "    </tr>\n",
       "    <tr>\n",
       "      <th>9088</th>\n",
       "      <td>Ipad everywhere. #SXSW {link}</td>\n",
       "      <td>Positive emotion</td>\n",
       "    </tr>\n",
       "    <tr>\n",
       "      <th>9089</th>\n",
       "      <td>Wave, buzz... RT @mention We interrupt your re...</td>\n",
       "      <td>No emotion toward brand or product</td>\n",
       "    </tr>\n",
       "    <tr>\n",
       "      <th>9090</th>\n",
       "      <td>Google's Zeiger, a physician never reported po...</td>\n",
       "      <td>No emotion toward brand or product</td>\n",
       "    </tr>\n",
       "    <tr>\n",
       "      <th>9091</th>\n",
       "      <td>Some Verizon iPhone customers complained their...</td>\n",
       "      <td>No emotion toward brand or product</td>\n",
       "    </tr>\n",
       "    <tr>\n",
       "      <th>9092</th>\n",
       "      <td>Ï¡Ïàü_ÊÎÒ£Áââ_£â_ÛâRT @...</td>\n",
       "      <td>No emotion toward brand or product</td>\n",
       "    </tr>\n",
       "  </tbody>\n",
       "</table>\n",
       "<p>9093 rows × 2 columns</p>\n",
       "</div>"
      ],
      "text/plain": [
       "                                             tweet_text  \\\n",
       "0     .@wesley83 I have a 3G iPhone. After 3 hrs twe...   \n",
       "1     @jessedee Know about @fludapp ? Awesome iPad/i...   \n",
       "2     @swonderlin Can not wait for #iPad 2 also. The...   \n",
       "3     @sxsw I hope this year's festival isn't as cra...   \n",
       "4     @sxtxstate great stuff on Fri #SXSW: Marissa M...   \n",
       "...                                                 ...   \n",
       "9088                      Ipad everywhere. #SXSW {link}   \n",
       "9089  Wave, buzz... RT @mention We interrupt your re...   \n",
       "9090  Google's Zeiger, a physician never reported po...   \n",
       "9091  Some Verizon iPhone customers complained their...   \n",
       "9092  Ï¡Ïàü_ÊÎÒ£Áââ_£â_ÛâRT @...   \n",
       "\n",
       "     is_there_an_emotion_directed_at_a_brand_or_product  \n",
       "0                                      Negative emotion  \n",
       "1                                      Positive emotion  \n",
       "2                                      Positive emotion  \n",
       "3                                      Negative emotion  \n",
       "4                                      Positive emotion  \n",
       "...                                                 ...  \n",
       "9088                                   Positive emotion  \n",
       "9089                 No emotion toward brand or product  \n",
       "9090                 No emotion toward brand or product  \n",
       "9091                 No emotion toward brand or product  \n",
       "9092                 No emotion toward brand or product  \n",
       "\n",
       "[9093 rows x 2 columns]"
      ]
     },
     "execution_count": 5,
     "metadata": {},
     "output_type": "execute_result"
    }
   ],
   "source": [
    "# Keeping the necessary columns\n",
    "data = data[['tweet_text','is_there_an_emotion_directed_at_a_brand_or_product']]\n",
    "data"
   ]
  },
  {
   "cell_type": "markdown",
   "id": "5a307f67-0bbb-4f36-82c1-36b2ff1470af",
   "metadata": {},
   "source": [
    "#### Data Preprocessing"
   ]
  },
  {
   "cell_type": "markdown",
   "id": "b4d51ca6-1e56-46ad-925f-b5937f1944e0",
   "metadata": {},
   "source": [
    "These columns have really long names so I renamed the column names to simplify the column names."
   ]
  },
  {
   "cell_type": "code",
   "execution_count": 6,
   "id": "f594b97e-215b-42f6-9c1e-d32eb781ee58",
   "metadata": {},
   "outputs": [],
   "source": [
    "data.rename(columns = {'tweet_text' : 'text'},inplace=True)\n",
    "data.rename(columns = {'is_there_an_emotion_directed_at_a_brand_or_product' : 'sentiment'},inplace=True)"
   ]
  },
  {
   "cell_type": "markdown",
   "id": "a7e50366-02a3-43a7-9414-3cc328b8d6d9",
   "metadata": {},
   "source": [
    "There we have it the column names are better than before so let us process this dataset for sentiment analysis."
   ]
  },
  {
   "cell_type": "markdown",
   "id": "671c0600-891e-41e6-996b-68d10928d309",
   "metadata": {},
   "source": [
    "So now that we have the columns necessary in the dataset we can check the overall information of the dataset again."
   ]
  },
  {
   "cell_type": "code",
   "execution_count": 7,
   "id": "64293f6a-f89f-47c9-8e7c-f537cf42b417",
   "metadata": {},
   "outputs": [
    {
     "name": "stdout",
     "output_type": "stream",
     "text": [
      "<class 'pandas.core.frame.DataFrame'>\n",
      "RangeIndex: 9093 entries, 0 to 9092\n",
      "Data columns (total 2 columns):\n",
      " #   Column     Non-Null Count  Dtype \n",
      "---  ------     --------------  ----- \n",
      " 0   text       9092 non-null   object\n",
      " 1   sentiment  9093 non-null   object\n",
      "dtypes: object(2)\n",
      "memory usage: 142.2+ KB\n"
     ]
    }
   ],
   "source": [
    "data.info()"
   ]
  },
  {
   "cell_type": "markdown",
   "id": "7e120544-275a-4ed1-bc72-b571444577b1",
   "metadata": {},
   "source": [
    "The dataset has columns with different range of row values but since the missing values are equal to 1. I chose to impute the missing value using a constant value."
   ]
  },
  {
   "cell_type": "code",
   "execution_count": 8,
   "id": "110e53ff-27e0-46bd-95c1-37bb7d9ab93e",
   "metadata": {},
   "outputs": [
    {
     "name": "stdout",
     "output_type": "stream",
     "text": [
      "<class 'pandas.core.frame.DataFrame'>\n",
      "RangeIndex: 9093 entries, 0 to 9092\n",
      "Data columns (total 2 columns):\n",
      " #   Column     Non-Null Count  Dtype \n",
      "---  ------     --------------  ----- \n",
      " 0   text       9093 non-null   object\n",
      " 1   sentiment  9093 non-null   object\n",
      "dtypes: object(2)\n",
      "memory usage: 142.2+ KB\n"
     ]
    }
   ],
   "source": [
    "data['text'] = data['text'].fillna(value='Unknown')\n",
    "data.info()"
   ]
  },
  {
   "cell_type": "markdown",
   "id": "372b8209-033f-4e56-8e7f-dc1d679f90ca",
   "metadata": {},
   "source": [
    "Perfect! Now our columns have the same number of rows in data."
   ]
  },
  {
   "cell_type": "markdown",
   "id": "a770856c-efdb-4937-8326-4cb7d906892f",
   "metadata": {},
   "source": [
    "Let us continue exploring this dataset specifically the types of emotions in the 'sentiment' column as to identify what we are really dealing with."
   ]
  },
  {
   "cell_type": "code",
   "execution_count": 14,
   "id": "49273c62-5497-4720-aa6a-aca00898543f",
   "metadata": {},
   "outputs": [
    {
     "data": {
      "image/png": "[encoded data removed]",
      "text/plain": [
       "<Figure size 1200x800 with 1 Axes>"
      ]
     },
     "metadata": {},
     "output_type": "display_data"
    }
   ],
   "source": [
    "# Identifys the distribution between labels in the target variable 'sentiment'\n",
    "sentiment_counts = data['sentiment'].value_counts()\n",
    "labels = sentiment_counts.index\n",
    "frequencies = sentiment_counts.values\n",
    "plt.figure(figsize=(12,8))\n",
    "plt.bar(labels,frequencies)\n",
    "plt.show()"
   ]
  },
  {
   "cell_type": "code",
   "execution_count": 11,
   "id": "732d504b",
   "metadata": {},
   "outputs": [
    {
     "data": {
      "text/plain": [
       "sentiment\n",
       "No emotion toward brand or product    5389\n",
       "Positive emotion                      2978\n",
       "Negative emotion                       570\n",
       "I can't tell                           156\n",
       "Name: count, dtype: int64"
      ]
     },
     "execution_count": 11,
     "metadata": {},
     "output_type": "execute_result"
    }
   ],
   "source": [
    "data['sentiment'].value_counts()"
   ]
  },
  {
   "cell_type": "markdown",
   "id": "bc51a2ef-b42c-4dc4-ba44-05558f461b50",
   "metadata": {},
   "source": [
    "As we can see the dataset we have has four different types of emotions which are all valid. Let us start by building a binary classifier; this mean limiting the sentiment analysis to tweets that were identified as potraying negative or positive emotion.\n",
    "\n",
    "(A multi-classifier will be built later)"
   ]
  },
  {
   "cell_type": "code",
   "execution_count": 23,
   "id": "a1c3872b",
   "metadata": {},
   "outputs": [
    {
     "name": "stdout",
     "output_type": "stream",
     "text": [
      "5956\n",
      "1140\n"
     ]
    },
    {
     "data": {
      "text/plain": [
       "sentiment\n",
       "Positive emotion    2978\n",
       "Negative emotion     570\n",
       "Name: count, dtype: int64"
      ]
     },
     "execution_count": 23,
     "metadata": {},
     "output_type": "execute_result"
    }
   ],
   "source": [
    "data = data.copy()\n",
    "data = data[data.sentiment != 'No emotion toward brand or product']\n",
    "data = data[data.sentiment != \"I can't tell\"]\n",
    "print(data[data['sentiment'] == 'Positive emotion'].size)\n",
    "print(data[data['sentiment'] == 'Negative emotion'].size)\n",
    "data['sentiment'].value_counts()"
   ]
  },
  {
   "cell_type": "markdown",
   "id": "51bc9837",
   "metadata": {},
   "source": [
    "So what I have done in the cell above is made a copy of the dataset. The next step was to filter out the tweets that did not have positive or negative emotion as for a binary classifier I was only interested with positive and negative tweets."
   ]
  },
  {
   "cell_type": "markdown",
   "id": "cc555646-de23-4c0c-965b-e509cffc80d4",
   "metadata": {},
   "source": [
    "There are many different approaches that are viable options for sentiment analysis and with experimentation of the options, the aim is to obtain the best possible solution. Let us begin with the automatic approaches that is machine learning models."
   ]
  },
  {
   "cell_type": "markdown",
   "id": "6d4b4628-c441-450e-927f-a24a2b361cb3",
   "metadata": {},
   "source": [
    "#### Getting ready for Deep NLP\n",
    "\n",
    "Deep NLP involves the application the Recurrent Neural Network model which is a sequence model that is able to focus on order of words hence capturing information quite effectively."
   ]
  },
  {
   "cell_type": "markdown",
   "id": "04e70351",
   "metadata": {},
   "source": [
    "First I split the dataset into X and Y ."
   ]
  },
  {
   "cell_type": "code",
   "execution_count": 31,
   "id": "1aeb0269-d9a7-47c9-a6c6-966e3e08c606",
   "metadata": {},
   "outputs": [],
   "source": [
    "X = data['text']\n",
    "y = data['sentiment']"
   ]
  },
  {
   "cell_type": "markdown",
   "id": "e0c9465e",
   "metadata": {},
   "source": [
    "Train-Test split\n",
    "\n",
    "The data is split into training and test sets and in this case I assigned 1500 observations to the test and seed to 42."
   ]
  },
  {
   "cell_type": "code",
   "execution_count": 32,
   "id": "1ca5ac61",
   "metadata": {},
   "outputs": [],
   "source": [
    "# Split data into training and test sets\n",
    "X_train, X_test, y_train, y_test = train_test_split(X,y,test_size=1500,random_state=42)"
   ]
  },
  {
   "cell_type": "markdown",
   "id": "d9451193",
   "metadata": {},
   "source": [
    "I created a Validation set as well as the model created is highly likely to be subject to hyperparameter tuning, and so the validation set will be used until a final model is decided upon. The final model will then be tested on the unseen test data that will provide an unbiased performance of the final model."
   ]
  },
  {
   "cell_type": "code",
   "execution_count": 35,
   "id": "317c223c",
   "metadata": {},
   "outputs": [],
   "source": [
    "# Splits data into training and validation sets\n",
    "X_train_final, X_val, y_train_final, y_val = train_test_split(X,y,test_size=1000,random_state=42)"
   ]
  },
  {
   "cell_type": "markdown",
   "id": "29716ec3",
   "metadata": {},
   "source": [
    "\n",
    "I used Tokenizer from keras preprocessing:  \n",
    "\n",
    "Tokenizer is a class provided by Keras, specifically designed \n",
    "for text tokenization and preprocessing in deep learning models.\n",
    "\n",
    "This tokenizer also converts tokens to sequences."
   ]
  },
  {
   "cell_type": "code",
   "execution_count": 51,
   "id": "c8e19f0e",
   "metadata": {},
   "outputs": [
    {
     "name": "stdout",
     "output_type": "stream",
     "text": [
      "Train Padded Sequences:\n",
      "[[   0    0    0 ...  247  182 2544]\n",
      " [   0    0    0 ...  554    1    5]\n",
      " [   0    0    0 ...  211    2    1]\n",
      " ...\n",
      " [   0    0    0 ...   34  901    5]\n",
      " [   0    0    0 ...   13  571    1]\n",
      " [   0    0    0 ...    1 1039 2491]]\n",
      "\n",
      "Test Padded Sequences:\n",
      "[[   0    0    0 ...    5    1   80]\n",
      " [   0    0    0 ...   18    1  606]\n",
      " [   0    0    0 ... 2779 2442    1]\n",
      " ...\n",
      " [   0    0    0 ...    7    1    5]\n",
      " [   0    0    0 ...  235  211    1]\n",
      " [   0    0    0 ...   13  726    1]]\n",
      "\n",
      "Validation Padded Sequences:\n",
      "[[   0    0    0 ...    5    1   80]\n",
      " [   0    0    0 ...   18    1  606]\n",
      " [   0    0    0 ... 2779 2442    1]\n",
      " ...\n",
      " [   0    0    0 ...   91   11  297]\n",
      " [   0    0    0 ...   44   16 1249]\n",
      " [   0    0    0 ...  173   12   45]]\n"
     ]
    }
   ],
   "source": [
    "tokenizer = Tokenizer()\n",
    "# Fit the tokenizer to training data\n",
    "tokenizer.fit_on_texts(X_train_final)\n",
    "\n",
    "# Converting the text sequences to token sequences\n",
    "X_train_tokens = tokenizer.texts_to_sequences(X_train_final)\n",
    "X_test_tokens = tokenizer.texts_to_sequences(X_test)\n",
    "X_val_tokens = tokenizer.texts_to_sequences(X_val)\n",
    "\n",
    "# Find the maximum sequence length\n",
    "max_sequence_length = max(len(seq) for seq in X_train_tokens + X_val_tokens + X_test_tokens)\n",
    "\n",
    "# Pad sequences separately to ensure all inputs have the same shape\n",
    "train_padded_sequences = pad_sequences(X_train_tokens, maxlen=max_sequence_length)\n",
    "test_padded_sequences = pad_sequences(X_test_tokens, maxlen=max_sequence_length)\n",
    "val_padded_sequences = pad_sequences(X_val_tokens, maxlen=max_sequence_length)\n",
    "# Print the padded sequences\n",
    "print(\"Train Padded Sequences:\")\n",
    "print(train_padded_sequences)\n",
    "print(\"\\nTest Padded Sequences:\")\n",
    "print(test_padded_sequences)\n",
    "print(\"\\nValidation Padded Sequences:\")\n",
    "print(val_padded_sequences)"
   ]
  },
  {
   "cell_type": "markdown",
   "id": "001d011a",
   "metadata": {},
   "source": [
    "The sequences above are now fully converted into integers bt to be able to fit an RNN model, I needed to convert these sequence of integers to vector repesentations."
   ]
  },
  {
   "cell_type": "markdown",
   "id": "0ec31627",
   "metadata": {},
   "source": [
    "The next step is to transform the labels of the product to integer labels which is similar to one-hot encoding."
   ]
  },
  {
   "cell_type": "code",
   "execution_count": 52,
   "id": "5808bae5",
   "metadata": {},
   "outputs": [],
   "source": [
    "labels = LabelBinarizer()\n",
    "\n",
    "labels.fit(y_train_final)\n",
    "classes = 2\n",
    "y_train_lb = to_categorical(labels.transform(y_train_final),classes)\n",
    "y_val_lb = to_categorical(labels.transform(y_val),classes)\n",
    "y_test_lb = to_categorical(labels.transform(y_test),classes)"
   ]
  },
  {
   "cell_type": "markdown",
   "id": "b5e3e88a",
   "metadata": {},
   "source": [
    "The next step is to compose a LSTM network which is part of RNN architecure. \n",
    "\n",
    "But first let us use the technique that is word embeddings to convert these sequences of integers into vector representations.\n",
    "\n",
    "Word Embeddings are dense vector representations of words in a high-dimensional space. The purpose of word embeddings is to capture the meaning and interpretation of words; semantic relationships that is.\n",
    "\n",
    "Word embeddings have benefits such as representing text/words as dense vectors of fixed dimensions allowing for much more efficient storage and computation, among other things such as capturing semantic relationships.\n",
    "\n",
    "Word embeddings prove to be very useful to an LSTM network as the model is able to effectively process sequential data,generaliz well and leverage pre-trained linguistic knowledge."
   ]
  },
  {
   "cell_type": "code",
   "execution_count": 54,
   "id": "6d050d27",
   "metadata": {},
   "outputs": [],
   "source": [
    "# In this case I used an embedding layer that is a layer that\n",
    "# learns word embeddings for our dataset right inside a neural\n",
    "# network\n"
   ]
  },
  {
   "cell_type": "markdown",
   "id": "99ccd706",
   "metadata": {},
   "source": [
    "#### Baseline Model\n",
    "\n",
    "I defined the network architecture and added number of layers as well as activation functions.\n",
    "\n",
    "I also added regularization layers (Dropout) to the network to prevent overfitting the model."
   ]
  },
  {
   "cell_type": "code",
   "execution_count": 79,
   "id": "5743ca6e",
   "metadata": {},
   "outputs": [],
   "source": [
    "#Input shape is the vocabulary size\n",
    "vocab_size = len(tokenizer.word_index) + 1\n",
    "model = Sequential()\n",
    "embedding_size = 128\n",
    "model.add(Embedding(vocab_size,embedding_size))\n",
    "model.add(LSTM(25, return_sequences=True))\n",
    "model.add(Dropout(0.5))\n",
    "model.add(Dense(50, activation='relu'))\n",
    "model.add(Dropout(0.5))\n",
    "model.add(Dense(2,activation='softmax'))# Use 2 units in output layer for binary classification. \n"
   ]
  },
  {
   "cell_type": "markdown",
   "id": "1fc41b01",
   "metadata": {},
   "source": [
    "Once you have designed the model, you still have to compile it, and provide important parameters such as the loss function.\n",
    "\n",
    "Since I started with binary classification I used 'adam' as the optimizer. \n",
    "\n",
    "Adam is used for its robust performance on a wide range of tasks and is often a good choice for binary classification. "
   ]
  },
  {
   "cell_type": "code",
   "execution_count": 80,
   "id": "59c05b03",
   "metadata": {},
   "outputs": [],
   "source": [
    "model.compile(loss='categorical_crossentropy',optimizer='adam',\n",
    "              metrics=['accuracy'])"
   ]
  },
  {
   "cell_type": "markdown",
   "id": "09b26853",
   "metadata": {},
   "source": [
    "I used the metric accuracy as according to our business \n",
    "understanding I needed to build a model that will accurately rate the sentiment from a tweet based on its content."
   ]
  },
  {
   "cell_type": "code",
   "execution_count": 81,
   "id": "ba6f9f1a",
   "metadata": {},
   "outputs": [
    {
     "name": "stdout",
     "output_type": "stream",
     "text": [
      "Model: \"sequential_2\"\n",
      "_________________________________________________________________\n",
      " Layer (type)                Output Shape              Param #   \n",
      "=================================================================\n",
      " embedding_2 (Embedding)     (None, None, 128)         676992    \n",
      "                                                                 \n",
      " lstm_2 (LSTM)               (None, None, 25)          15400     \n",
      "                                                                 \n",
      " dropout_4 (Dropout)         (None, None, 25)          0         \n",
      "                                                                 \n",
      " dense_4 (Dense)             (None, None, 50)          1300      \n",
      "                                                                 \n",
      " dropout_5 (Dropout)         (None, None, 50)          0         \n",
      "                                                                 \n",
      " dense_5 (Dense)             (None, None, 2)           102       \n",
      "                                                                 \n",
      "=================================================================\n",
      "Total params: 693794 (2.65 MB)\n",
      "Trainable params: 693794 (2.65 MB)\n",
      "Non-trainable params: 0 (0.00 Byte)\n",
      "_________________________________________________________________\n"
     ]
    }
   ],
   "source": [
    "model.summary()"
   ]
  },
  {
   "cell_type": "markdown",
   "id": "6294d1e5",
   "metadata": {},
   "source": [
    "Finally, I fit the model by passing in data, the labels and setting hyperparameters such as the batch size, number of epochs to train for and training and validation data."
   ]
  },
  {
   "cell_type": "code",
   "execution_count": 82,
   "id": "e7048a47",
   "metadata": {},
   "outputs": [
    {
     "name": "stdout",
     "output_type": "stream",
     "text": [
      "Epoch 1/3\n"
     ]
    },
    {
     "ename": "ValueError",
     "evalue": "in user code:\n\n    File \"c:\\Users\\HP\\anaconda3_2.0\\envs\\learn-env\\lib\\site-packages\\keras\\src\\engine\\training.py\", line 1338, in train_function  *\n        return step_function(self, iterator)\n    File \"c:\\Users\\HP\\anaconda3_2.0\\envs\\learn-env\\lib\\site-packages\\keras\\src\\engine\\training.py\", line 1322, in step_function  **\n        outputs = model.distribute_strategy.run(run_step, args=(data,))\n    File \"c:\\Users\\HP\\anaconda3_2.0\\envs\\learn-env\\lib\\site-packages\\keras\\src\\engine\\training.py\", line 1303, in run_step  **\n        outputs = model.train_step(data)\n    File \"c:\\Users\\HP\\anaconda3_2.0\\envs\\learn-env\\lib\\site-packages\\keras\\src\\engine\\training.py\", line 1081, in train_step\n        loss = self.compute_loss(x, y, y_pred, sample_weight)\n    File \"c:\\Users\\HP\\anaconda3_2.0\\envs\\learn-env\\lib\\site-packages\\keras\\src\\engine\\training.py\", line 1139, in compute_loss\n        return self.compiled_loss(\n    File \"c:\\Users\\HP\\anaconda3_2.0\\envs\\learn-env\\lib\\site-packages\\keras\\src\\engine\\compile_utils.py\", line 265, in __call__\n        loss_value = loss_obj(y_t, y_p, sample_weight=sw)\n    File \"c:\\Users\\HP\\anaconda3_2.0\\envs\\learn-env\\lib\\site-packages\\keras\\src\\losses.py\", line 142, in __call__\n        losses = call_fn(y_true, y_pred)\n    File \"c:\\Users\\HP\\anaconda3_2.0\\envs\\learn-env\\lib\\site-packages\\keras\\src\\losses.py\", line 268, in call  **\n        return ag_fn(y_true, y_pred, **self._fn_kwargs)\n    File \"c:\\Users\\HP\\anaconda3_2.0\\envs\\learn-env\\lib\\site-packages\\keras\\src\\losses.py\", line 2122, in categorical_crossentropy\n        return backend.categorical_crossentropy(\n    File \"c:\\Users\\HP\\anaconda3_2.0\\envs\\learn-env\\lib\\site-packages\\keras\\src\\backend.py\", line 5560, in categorical_crossentropy\n        target.shape.assert_is_compatible_with(output.shape)\n\n    ValueError: Shapes (None, 2) and (None, 33, 2) are incompatible\n",
     "output_type": "error",
     "traceback": [
      "\u001b[1;31m---------------------------------------------------------------------------\u001b[0m",
      "\u001b[1;31mValueError\u001b[0m                                Traceback (most recent call last)",
      "\u001b[1;32mc:\\Users\\HP\\Documents\\Sentiment-Analysis\\student_main.ipynb Cell 46\u001b[0m line \u001b[0;36m1\n\u001b[1;32m----> <a href='vscode-notebook-cell:/c%3A/Users/HP/Documents/Sentiment-Analysis/student_main.ipynb#X63sZmlsZQ%3D%3D?line=0'>1</a>\u001b[0m baseline_model_val \u001b[39m=\u001b[39m model\u001b[39m.\u001b[39;49mfit(train_padded_sequences,y_train_lb,epochs\u001b[39m=\u001b[39;49m\u001b[39m3\u001b[39;49m,\n\u001b[0;32m      <a href='vscode-notebook-cell:/c%3A/Users/HP/Documents/Sentiment-Analysis/student_main.ipynb#X63sZmlsZQ%3D%3D?line=1'>2</a>\u001b[0m           batch_size\u001b[39m=\u001b[39;49m\u001b[39m32\u001b[39;49m,validation_data\u001b[39m=\u001b[39;49m\n\u001b[0;32m      <a href='vscode-notebook-cell:/c%3A/Users/HP/Documents/Sentiment-Analysis/student_main.ipynb#X63sZmlsZQ%3D%3D?line=2'>3</a>\u001b[0m           (val_padded_sequences,y_val_lb))\n",
      "File \u001b[1;32mc:\\Users\\HP\\anaconda3_2.0\\envs\\learn-env\\lib\\site-packages\\keras\\src\\utils\\traceback_utils.py:70\u001b[0m, in \u001b[0;36mfilter_traceback.<locals>.error_handler\u001b[1;34m(*args, **kwargs)\u001b[0m\n\u001b[0;32m     67\u001b[0m     filtered_tb \u001b[39m=\u001b[39m _process_traceback_frames(e\u001b[39m.\u001b[39m__traceback__)\n\u001b[0;32m     68\u001b[0m     \u001b[39m# To get the full stack trace, call:\u001b[39;00m\n\u001b[0;32m     69\u001b[0m     \u001b[39m# `tf.debugging.disable_traceback_filtering()`\u001b[39;00m\n\u001b[1;32m---> 70\u001b[0m     \u001b[39mraise\u001b[39;00m e\u001b[39m.\u001b[39mwith_traceback(filtered_tb) \u001b[39mfrom\u001b[39;00m \u001b[39mNone\u001b[39;00m\n\u001b[0;32m     71\u001b[0m \u001b[39mfinally\u001b[39;00m:\n\u001b[0;32m     72\u001b[0m     \u001b[39mdel\u001b[39;00m filtered_tb\n",
      "File \u001b[1;32m~\\AppData\\Local\\Temp\\__autograph_generated_fileizm9blur.py:15\u001b[0m, in \u001b[0;36mouter_factory.<locals>.inner_factory.<locals>.tf__train_function\u001b[1;34m(iterator)\u001b[0m\n\u001b[0;32m     13\u001b[0m \u001b[39mtry\u001b[39;00m:\n\u001b[0;32m     14\u001b[0m     do_return \u001b[39m=\u001b[39m \u001b[39mTrue\u001b[39;00m\n\u001b[1;32m---> 15\u001b[0m     retval_ \u001b[39m=\u001b[39m ag__\u001b[39m.\u001b[39mconverted_call(ag__\u001b[39m.\u001b[39mld(step_function), (ag__\u001b[39m.\u001b[39mld(\u001b[39mself\u001b[39m), ag__\u001b[39m.\u001b[39mld(iterator)), \u001b[39mNone\u001b[39;00m, fscope)\n\u001b[0;32m     16\u001b[0m \u001b[39mexcept\u001b[39;00m:\n\u001b[0;32m     17\u001b[0m     do_return \u001b[39m=\u001b[39m \u001b[39mFalse\u001b[39;00m\n",
      "\u001b[1;31mValueError\u001b[0m: in user code:\n\n    File \"c:\\Users\\HP\\anaconda3_2.0\\envs\\learn-env\\lib\\site-packages\\keras\\src\\engine\\training.py\", line 1338, in train_function  *\n        return step_function(self, iterator)\n    File \"c:\\Users\\HP\\anaconda3_2.0\\envs\\learn-env\\lib\\site-packages\\keras\\src\\engine\\training.py\", line 1322, in step_function  **\n        outputs = model.distribute_strategy.run(run_step, args=(data,))\n    File \"c:\\Users\\HP\\anaconda3_2.0\\envs\\learn-env\\lib\\site-packages\\keras\\src\\engine\\training.py\", line 1303, in run_step  **\n        outputs = model.train_step(data)\n    File \"c:\\Users\\HP\\anaconda3_2.0\\envs\\learn-env\\lib\\site-packages\\keras\\src\\engine\\training.py\", line 1081, in train_step\n        loss = self.compute_loss(x, y, y_pred, sample_weight)\n    File \"c:\\Users\\HP\\anaconda3_2.0\\envs\\learn-env\\lib\\site-packages\\keras\\src\\engine\\training.py\", line 1139, in compute_loss\n        return self.compiled_loss(\n    File \"c:\\Users\\HP\\anaconda3_2.0\\envs\\learn-env\\lib\\site-packages\\keras\\src\\engine\\compile_utils.py\", line 265, in __call__\n        loss_value = loss_obj(y_t, y_p, sample_weight=sw)\n    File \"c:\\Users\\HP\\anaconda3_2.0\\envs\\learn-env\\lib\\site-packages\\keras\\src\\losses.py\", line 142, in __call__\n        losses = call_fn(y_true, y_pred)\n    File \"c:\\Users\\HP\\anaconda3_2.0\\envs\\learn-env\\lib\\site-packages\\keras\\src\\losses.py\", line 268, in call  **\n        return ag_fn(y_true, y_pred, **self._fn_kwargs)\n    File \"c:\\Users\\HP\\anaconda3_2.0\\envs\\learn-env\\lib\\site-packages\\keras\\src\\losses.py\", line 2122, in categorical_crossentropy\n        return backend.categorical_crossentropy(\n    File \"c:\\Users\\HP\\anaconda3_2.0\\envs\\learn-env\\lib\\site-packages\\keras\\src\\backend.py\", line 5560, in categorical_crossentropy\n        target.shape.assert_is_compatible_with(output.shape)\n\n    ValueError: Shapes (None, 2) and (None, 33, 2) are incompatible\n"
     ]
    }
   ],
   "source": [
    "baseline_model_val = model.fit(train_padded_sequences,y_train_lb,epochs=3,\n",
    "          batch_size=32,validation_data=\n",
    "          (val_padded_sequences,y_val_lb))"
   ]
  },
  {
   "cell_type": "code",
   "execution_count": 74,
   "id": "be94f2f7",
   "metadata": {},
   "outputs": [
    {
     "name": "stdout",
     "output_type": "stream",
     "text": [
      "(1000, 33)\n",
      "(2548, 33)\n",
      "[[1. 0.]\n",
      " [0. 1.]\n",
      " [0. 1.]\n",
      " ...\n",
      " [0. 1.]\n",
      " [0. 1.]\n",
      " [0. 1.]]\n",
      "[[0. 1.]\n",
      " [0. 1.]\n",
      " [1. 0.]\n",
      " ...\n",
      " [0. 1.]\n",
      " [1. 0.]\n",
      " [0. 1.]]\n"
     ]
    }
   ],
   "source": [
    "print(val_padded_sequences.shape)\n",
    "print(train_padded_sequences.shape)\n",
    "print(y_train_lb)\n",
    "print(y_test_lb)"
   ]
  },
  {
   "cell_type": "code",
   "execution_count": null,
   "id": "84eca45d",
   "metadata": {},
   "outputs": [],
   "source": []
  }
 ],
 "metadata": {
  "kernelspec": {
   "display_name": "learn-env",
   "language": "python",
   "name": "python3"
  },
  "language_info": {
   "codemirror_mode": {
    "name": "ipython",
    "version": 3
   },
   "file_extension": ".py",
   "mimetype": "text/x-python",
   "name": "python",
   "nbconvert_exporter": "python",
   "pygments_lexer": "ipython3",
   "version": "3.10.12"
  }
 },
 "nbformat": 4,
 "nbformat_minor": 5
}
